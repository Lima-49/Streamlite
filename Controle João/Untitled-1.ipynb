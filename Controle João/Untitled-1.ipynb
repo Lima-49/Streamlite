{
 "cells": [
  {
   "cell_type": "code",
   "execution_count": 121,
   "metadata": {},
   "outputs": [],
   "source": [
    "import pandas as pd\n",
    "import streamlit as st"
   ]
  },
  {
   "cell_type": "code",
   "execution_count": 122,
   "metadata": {},
   "outputs": [],
   "source": [
    "df = pd.read_excel(r'C:\\Users\\vitor\\Documents\\Programas\\Controle João\\CONTROLE MATERIA PRIMA JUNHO 2022.xlsx', sheet_name='CONTROLE SAÍDA')"
   ]
  },
  {
   "cell_type": "code",
   "execution_count": 123,
   "metadata": {},
   "outputs": [
    {
     "name": "stdout",
     "output_type": "stream",
     "text": [
      "Trocando a coluna Unnamed: 0 por MATÉRIA PRIMA \n",
      "Trocando a coluna CONTROLE DE SAÍDA DE MATERIA PRIMA por QTDE  MÍN.\n",
      "Trocando a coluna Unnamed: 2 por DATA\n",
      "Trocando a coluna Unnamed: 3 por QUANT.\n",
      "Trocando a coluna Unnamed: 4 por DATA\n",
      "Trocando a coluna Unnamed: 5 por QUANT.\n",
      "Trocando a coluna Unnamed: 6 por DATA\n",
      "Trocando a coluna Unnamed: 7 por QUANT.\n",
      "Trocando a coluna Unnamed: 8 por DATA\n",
      "Trocando a coluna Unnamed: 9 por QUANT.\n",
      "Trocando a coluna Unnamed: 10 por DATA\n",
      "Trocando a coluna Unnamed: 11 por QUANT.\n",
      "Trocando a coluna Unnamed: 12 por DATA\n",
      "Trocando a coluna Unnamed: 13 por QUANT.\n",
      "Trocando a coluna Unnamed: 14 por DATA\n",
      "Trocando a coluna Unnamed: 15 por QUANT.\n",
      "Trocando a coluna Unnamed: 16 por DATA\n",
      "Trocando a coluna Unnamed: 17 por QUANT.\n",
      "Trocando a coluna Unnamed: 18 por DATA\n",
      "Trocando a coluna Unnamed: 19 por QUANT.\n",
      "Trocando a coluna Unnamed: 20 por DATA\n",
      "Trocando a coluna Unnamed: 21 por QUANT.\n",
      "Trocando a coluna Unnamed: 22 por DATA\n",
      "Trocando a coluna Unnamed: 23 por QUANT.\n",
      "Trocando a coluna Unnamed: 24 por DATA\n",
      "Trocando a coluna Unnamed: 25 por QUANT.\n",
      "Trocando a coluna Unnamed: 26 por DATA\n",
      "Trocando a coluna Unnamed: 27 por QUANT.\n",
      "Trocando a coluna Unnamed: 28 por DATA\n",
      "Trocando a coluna Unnamed: 29 por QUANT.\n",
      "Trocando a coluna Unnamed: 30 por DATA\n",
      "Trocando a coluna Unnamed: 31 por QUANT.\n",
      "Trocando a coluna Unnamed: 32 por DATA\n",
      "Trocando a coluna Unnamed: 33 por QUANT.\n",
      "Trocando a coluna Unnamed: 34 por DATA\n",
      "Trocando a coluna Unnamed: 35 por QUANT.\n",
      "Trocando a coluna Unnamed: 36 por DATA\n",
      "Trocando a coluna Unnamed: 37 por QUANT.\n",
      "Trocando a coluna Unnamed: 38 por DATA\n",
      "Trocando a coluna Unnamed: 39 por QUANT.\n",
      "Trocando a coluna Unnamed: 40 por DATA\n",
      "Trocando a coluna Unnamed: 41 por QUANT.\n",
      "Trocando a coluna Unnamed: 42 por DATA\n",
      "Trocando a coluna Unnamed: 43 por QUANT.\n",
      "Trocando a coluna Unnamed: 44 por DATA\n",
      "Trocando a coluna Unnamed: 45 por QUANT.\n",
      "Trocando a coluna Unnamed: 46 por DATA\n",
      "Trocando a coluna Unnamed: 47 por QUANT.\n",
      "Trocando a coluna Unnamed: 48 por DATA\n",
      "Trocando a coluna Unnamed: 49 por QUANT.\n",
      "Trocando a coluna Unnamed: 50 por TOTAL\n",
      "Trocando a coluna Unnamed: 51 por SALDO\n"
     ]
    }
   ],
   "source": [
    "teste = []\n",
    "for col in df.columns:\n",
    "    nova = df.at[1, col]\n",
    "    print(f\"Trocando a coluna {col} por {nova}\")\n",
    "    teste.append(nova)\n"
   ]
  },
  {
   "cell_type": "code",
   "execution_count": 124,
   "metadata": {},
   "outputs": [],
   "source": [
    "df.columns = teste"
   ]
  },
  {
   "cell_type": "code",
   "execution_count": 125,
   "metadata": {},
   "outputs": [],
   "source": [
    "df.drop([0,1], inplace=True)"
   ]
  },
  {
   "cell_type": "code",
   "execution_count": 126,
   "metadata": {},
   "outputs": [
    {
     "data": {
      "text/plain": [
       "Index(['MATÉRIA PRIMA ', 'QTDE  MÍN.', 'DATA', 'QUANT.', 'DATA', 'QUANT.',\n",
       "       'DATA', 'QUANT.', 'DATA', 'QUANT.', 'DATA', 'QUANT.', 'DATA', 'QUANT.',\n",
       "       'DATA', 'QUANT.', 'DATA', 'QUANT.', 'DATA', 'QUANT.', 'DATA', 'QUANT.',\n",
       "       'DATA', 'QUANT.', 'DATA', 'QUANT.', 'DATA', 'QUANT.', 'DATA', 'QUANT.',\n",
       "       'DATA', 'QUANT.', 'DATA', 'QUANT.', 'DATA', 'QUANT.', 'DATA', 'QUANT.',\n",
       "       'DATA', 'QUANT.', 'DATA', 'QUANT.', 'DATA', 'QUANT.', 'DATA', 'QUANT.',\n",
       "       'DATA', 'QUANT.', 'DATA', 'QUANT.', 'TOTAL', 'SALDO'],\n",
       "      dtype='object')"
      ]
     },
     "execution_count": 126,
     "metadata": {},
     "output_type": "execute_result"
    }
   ],
   "source": [
    "df.columns"
   ]
  },
  {
   "cell_type": "code",
   "execution_count": 127,
   "metadata": {},
   "outputs": [
    {
     "name": "stdout",
     "output_type": "stream",
     "text": [
      "2022-06-01 00:00:00\n",
      "2022-06-02 00:00:00\n",
      "2022-06-02 00:00:00\n",
      "2022-06-03 00:00:00\n",
      "2022-06-06 00:00:00\n",
      "2022-06-07 00:00:00\n",
      "2022-06-07 00:00:00\n",
      "2022-06-09 00:00:00\n",
      "2022-06-10 00:00:00\n",
      "2022-06-14 00:00:00\n",
      "2022-06-17 00:00:00\n",
      "2022-06-20 00:00:00\n",
      "2022-06-21 00:00:00\n",
      "2022-06-22 00:00:00\n",
      "2022-06-23 00:00:00\n",
      "2022-06-24 00:00:00\n",
      "2022-06-27 00:00:00\n",
      "nan\n",
      "nan\n",
      "nan\n",
      "nan\n",
      "nan\n",
      "nan\n",
      "nan\n"
     ]
    }
   ],
   "source": [
    "str = df.at[2,'DATA']\n",
    "for x in str:\n",
    "    print(x)"
   ]
  },
  {
   "cell_type": "code",
   "execution_count": 128,
   "metadata": {},
   "outputs": [],
   "source": [
    "date_df = df['DATA']"
   ]
  },
  {
   "cell_type": "code",
   "execution_count": 129,
   "metadata": {},
   "outputs": [
    {
     "data": {
      "text/plain": [
       "Index(['DATA', 'DATA', 'DATA', 'DATA', 'DATA', 'DATA', 'DATA', 'DATA', 'DATA',\n",
       "       'DATA', 'DATA', 'DATA', 'DATA', 'DATA', 'DATA', 'DATA', 'DATA', 'DATA',\n",
       "       'DATA', 'DATA', 'DATA', 'DATA', 'DATA', 'DATA'],\n",
       "      dtype='object')"
      ]
     },
     "execution_count": 129,
     "metadata": {},
     "output_type": "execute_result"
    }
   ],
   "source": [
    "date_df.columns"
   ]
  },
  {
   "cell_type": "code",
   "execution_count": 130,
   "metadata": {},
   "outputs": [],
   "source": [
    "date_list = []\n",
    "for date_columns in date_df.columns:\n",
    "    for x in df[date_columns].index:\n",
    "        coluna_valor = df.at[x,date_columns]\n",
    "        for valor in coluna_valor:\n",
    "            if valor != 'nan':\n",
    "                date_list.append(valor)"
   ]
  },
  {
   "cell_type": "code",
   "execution_count": 131,
   "metadata": {},
   "outputs": [],
   "source": [
    "teste = pd.DataFrame()\n",
    "teste['DATA'] = date_list\n",
    "#teste.to_excel(r'C:\\Users\\vitor\\Documents\\Programas\\Streamlite\\teste.xlsx', index=False)"
   ]
  },
  {
   "cell_type": "code",
   "execution_count": 138,
   "metadata": {},
   "outputs": [
    {
     "ename": "TypeError",
     "evalue": "'Series' object is not callable",
     "output_type": "error",
     "traceback": [
      "\u001b[1;31m---------------------------------------------------------------------------\u001b[0m",
      "\u001b[1;31mTypeError\u001b[0m                                 Traceback (most recent call last)",
      "\u001b[1;32mc:\\Users\\vitor\\Documents\\Programas\\Streamlite\\Controle João\\Untitled-1.ipynb Cell 12'\u001b[0m in \u001b[0;36m<cell line: 1>\u001b[1;34m()\u001b[0m\n\u001b[1;32m----> <a href='vscode-notebook-cell:/c%3A/Users/vitor/Documents/Programas/Streamlite/Controle%20Jo%C3%A3o/Untitled-1.ipynb#ch0000022?line=0'>1</a>\u001b[0m \u001b[39mstr\u001b[39;49m(teste\u001b[39m.\u001b[39;49mat[\u001b[39m2\u001b[39;49m, \u001b[39m'\u001b[39;49m\u001b[39mDATA\u001b[39;49m\u001b[39m'\u001b[39;49m])\n",
      "\u001b[1;31mTypeError\u001b[0m: 'Series' object is not callable"
     ]
    }
   ],
   "source": [
    "str(teste.at[2, 'DATA'])"
   ]
  },
  {
   "cell_type": "code",
   "execution_count": null,
   "metadata": {},
   "outputs": [],
   "source": []
  }
 ],
 "metadata": {
  "interpreter": {
   "hash": "5fe3e6f0cdaab8afdc61c52912fda83f7c0a71baaea1897dd7498e2df01e69ec"
  },
  "kernelspec": {
   "display_name": "Python 3.10.1 64-bit",
   "language": "python",
   "name": "python3"
  },
  "language_info": {
   "codemirror_mode": {
    "name": "ipython",
    "version": 3
   },
   "file_extension": ".py",
   "mimetype": "text/x-python",
   "name": "python",
   "nbconvert_exporter": "python",
   "pygments_lexer": "ipython3",
   "version": "3.10.1"
  },
  "orig_nbformat": 4
 },
 "nbformat": 4,
 "nbformat_minor": 2
}
